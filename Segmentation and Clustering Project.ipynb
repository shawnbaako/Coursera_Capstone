{
 "cells": [
  {
   "cell_type": "markdown",
   "metadata": {},
   "source": [
    "# **Segmenting and Clustering Neighborhoods in Toronto**\n",
    "This notebook is part 1 of a 2 part project. \n",
    "\n",
    "### *Goal: Obtain and Prepare Data for Project*\n",
    "#### *Steps:*\n",
    "    1. Scrape Wikipedia for Postal Codes, Boroughs and Neighbourhoods in Toronto.\n",
    "        For this step I used beautifulsoup module and html parser to pull the data from wikipedia. \n",
    "    2. Clean and convert Data into Pandas DataFrame\n",
    "    3. Obtain location cordinates for all Boroughs\n",
    "         You may use python's geocoder module for this task. For this project I already had the location data in a CSV.\n",
    "    4. Create a new DataFrame containing Postal Codes, Boroughs and Neighbourhoods  "
   ]
  },
  {
   "cell_type": "markdown",
   "metadata": {},
   "source": [
    "##### **Import Libraries for Project**"
   ]
  },
  {
   "cell_type": "code",
   "execution_count": 1,
   "metadata": {},
   "outputs": [
    {
     "name": "stdout",
     "output_type": "stream",
     "text": [
      "done\n"
     ]
    }
   ],
   "source": [
    "import pandas as pd\n",
    "pd.set_option('display.max_columns', None)\n",
    "pd.set_option('display.max_rows', None)\n",
    "import numpy as np\n",
    "import matplotlib.pyplot as plt\n",
    "import bs4 \n",
    "import requests\n",
    "import html.parser\n",
    "from bs4 import BeautifulSoup as soup\n",
    "print('done')"
   ]
  },
  {
   "cell_type": "markdown",
   "metadata": {},
   "source": [
    "##### **Set Output Parameters**"
   ]
  },
  {
   "cell_type": "code",
   "execution_count": null,
   "metadata": {},
   "outputs": [],
   "source": [
    "pd.set_option('display.max_columns', None)\n",
    "pd.set_option('display.max_rows', None)"
   ]
  },
  {
   "cell_type": "markdown",
   "metadata": {},
   "source": [
    "#### *STEP 1:*\n",
    "\n",
    "#### *1. Download Toronto Data Table on Toronto [Wikipedia]('https://en.wikipedia.org/wiki/List_of_postal_codes_of_Canada:_M'/ \"Toronto Table\") page using BeautifulSoup*"
   ]
  },
  {
   "cell_type": "code",
   "execution_count": 2,
   "metadata": {},
   "outputs": [],
   "source": [
    "url=requests.get('https://en.wikipedia.org/wiki/List_of_postal_codes_of_Canada:_M').text"
   ]
  },
  {
   "cell_type": "code",
   "execution_count": 3,
   "metadata": {
    "scrolled": true
   },
   "outputs": [
    {
     "data": {
      "text/plain": [
       "[<tr>\n",
       " <th>Postcode</th>\n",
       " <th>Borough</th>\n",
       " <th>Neighbourhood\n",
       " </th></tr>,\n",
       " <th>Postcode</th>,\n",
       " <th>Borough</th>,\n",
       " <th>Neighbourhood\n",
       " </th>,\n",
       " <tr>\n",
       " <td>M1A</td>\n",
       " <td>Not assigned</td>\n",
       " <td>Not assigned\n",
       " </td></tr>,\n",
       " <td>M1A</td>,\n",
       " <td>Not assigned</td>,\n",
       " <td>Not assigned\n",
       " </td>,\n",
       " <tr>\n",
       " <td>M2A</td>\n",
       " <td>Not assigned</td>\n",
       " <td>Not assigned\n",
       " </td></tr>,\n",
       " <td>M2A</td>,\n",
       " <td>Not assigned</td>,\n",
       " <td>Not assigned\n",
       " </td>,\n",
       " <tr>\n",
       " <td>M3A</td>\n",
       " <td><a href=\"/wiki/North_York\" title=\"North York\">North York</a></td>\n",
       " <td><a href=\"/wiki/Parkwoods\" title=\"Parkwoods\">Parkwoods</a>\n",
       " </td></tr>,\n",
       " <td>M3A</td>,\n",
       " <td><a href=\"/wiki/North_York\" title=\"North York\">North York</a></td>,\n",
       " <a href=\"/wiki/North_York\" title=\"North York\">North York</a>,\n",
       " <td><a href=\"/wiki/Parkwoods\" title=\"Parkwoods\">Parkwoods</a>\n",
       " </td>,\n",
       " <a href=\"/wiki/Parkwoods\" title=\"Parkwoods\">Parkwoods</a>,\n",
       " <tr>\n",
       " <td>M4A</td>\n",
       " <td><a href=\"/wiki/North_York\" title=\"North York\">North York</a></td>\n",
       " <td><a href=\"/wiki/Victoria_Village\" title=\"Victoria Village\">Victoria Village</a>\n",
       " </td></tr>,\n",
       " <td>M4A</td>]"
      ]
     },
     "execution_count": 3,
     "metadata": {},
     "output_type": "execute_result"
    }
   ],
   "source": [
    "soup_url= soup(url, 'html.parser')\n",
    "web_tab= soup_url.find_all('table')\n",
    "web_table= soup_url.find('tbody')\n",
    "web_table(limit = 20)"
   ]
  },
  {
   "cell_type": "markdown",
   "metadata": {},
   "source": [
    "### **Step 2.**\n",
    "\n",
    "### *A. Extract & Clean raw html output above to obtain desired data and convert it to a Pandas DataFrame*"
   ]
  },
  {
   "cell_type": "code",
   "execution_count": 4,
   "metadata": {},
   "outputs": [
    {
     "name": "stdout",
     "output_type": "stream",
     "text": [
      "(288, 3)\n"
     ]
    },
    {
     "data": {
      "text/html": [
       "<div>\n",
       "<style scoped>\n",
       "    .dataframe tbody tr th:only-of-type {\n",
       "        vertical-align: middle;\n",
       "    }\n",
       "\n",
       "    .dataframe tbody tr th {\n",
       "        vertical-align: top;\n",
       "    }\n",
       "\n",
       "    .dataframe thead th {\n",
       "        text-align: right;\n",
       "    }\n",
       "</style>\n",
       "<table border=\"1\" class=\"dataframe\">\n",
       "  <thead>\n",
       "    <tr style=\"text-align: right;\">\n",
       "      <th></th>\n",
       "      <th>Postcode</th>\n",
       "      <th>Borough</th>\n",
       "      <th>Neighborhood</th>\n",
       "    </tr>\n",
       "  </thead>\n",
       "  <tbody>\n",
       "    <tr>\n",
       "      <th>0</th>\n",
       "      <td>None</td>\n",
       "      <td>None</td>\n",
       "      <td>None</td>\n",
       "    </tr>\n",
       "    <tr>\n",
       "      <th>1</th>\n",
       "      <td>M1A</td>\n",
       "      <td>Not assigned</td>\n",
       "      <td>Not assigned</td>\n",
       "    </tr>\n",
       "    <tr>\n",
       "      <th>2</th>\n",
       "      <td>M2A</td>\n",
       "      <td>Not assigned</td>\n",
       "      <td>Not assigned</td>\n",
       "    </tr>\n",
       "    <tr>\n",
       "      <th>3</th>\n",
       "      <td>M3A</td>\n",
       "      <td>North York</td>\n",
       "      <td>Parkwoods</td>\n",
       "    </tr>\n",
       "    <tr>\n",
       "      <th>4</th>\n",
       "      <td>M4A</td>\n",
       "      <td>North York</td>\n",
       "      <td>Victoria Village</td>\n",
       "    </tr>\n",
       "  </tbody>\n",
       "</table>\n",
       "</div>"
      ],
      "text/plain": [
       "  Postcode       Borough      Neighborhood\n",
       "0     None          None              None\n",
       "1      M1A  Not assigned      Not assigned\n",
       "2      M2A  Not assigned      Not assigned\n",
       "3      M3A    North York         Parkwoods\n",
       "4      M4A    North York  Victoria Village"
      ]
     },
     "execution_count": 4,
     "metadata": {},
     "output_type": "execute_result"
    }
   ],
   "source": [
    "tab = []\n",
    "for tr in web_table.find_all(\"tr\"):\n",
    "    td = tr.find_all(\"td\")\n",
    "    row = [tr.text.strip() for tr in td]\n",
    "    tab.append(row)\n",
    "    \n",
    "tdf = pd.DataFrame(tab, columns=[\"Postcode\",\"Borough\", \"Neighborhood\"])\n",
    "print(tdf.shape)\n",
    "tdf.head()"
   ]
  },
  {
   "cell_type": "markdown",
   "metadata": {},
   "source": [
    "#### *2.B. Drop empty row at index 0*"
   ]
  },
  {
   "cell_type": "code",
   "execution_count": 5,
   "metadata": {},
   "outputs": [
    {
     "name": "stdout",
     "output_type": "stream",
     "text": [
      "(287, 3)\n"
     ]
    },
    {
     "data": {
      "text/html": [
       "<div>\n",
       "<style scoped>\n",
       "    .dataframe tbody tr th:only-of-type {\n",
       "        vertical-align: middle;\n",
       "    }\n",
       "\n",
       "    .dataframe tbody tr th {\n",
       "        vertical-align: top;\n",
       "    }\n",
       "\n",
       "    .dataframe thead th {\n",
       "        text-align: right;\n",
       "    }\n",
       "</style>\n",
       "<table border=\"1\" class=\"dataframe\">\n",
       "  <thead>\n",
       "    <tr style=\"text-align: right;\">\n",
       "      <th></th>\n",
       "      <th>Postcode</th>\n",
       "      <th>Borough</th>\n",
       "      <th>Neighborhood</th>\n",
       "    </tr>\n",
       "  </thead>\n",
       "  <tbody>\n",
       "    <tr>\n",
       "      <th>0</th>\n",
       "      <td>M1A</td>\n",
       "      <td>Not assigned</td>\n",
       "      <td>Not assigned</td>\n",
       "    </tr>\n",
       "    <tr>\n",
       "      <th>1</th>\n",
       "      <td>M2A</td>\n",
       "      <td>Not assigned</td>\n",
       "      <td>Not assigned</td>\n",
       "    </tr>\n",
       "    <tr>\n",
       "      <th>2</th>\n",
       "      <td>M3A</td>\n",
       "      <td>North York</td>\n",
       "      <td>Parkwoods</td>\n",
       "    </tr>\n",
       "    <tr>\n",
       "      <th>3</th>\n",
       "      <td>M4A</td>\n",
       "      <td>North York</td>\n",
       "      <td>Victoria Village</td>\n",
       "    </tr>\n",
       "    <tr>\n",
       "      <th>4</th>\n",
       "      <td>M5A</td>\n",
       "      <td>Downtown Toronto</td>\n",
       "      <td>Harbourfront</td>\n",
       "    </tr>\n",
       "  </tbody>\n",
       "</table>\n",
       "</div>"
      ],
      "text/plain": [
       "  Postcode           Borough      Neighborhood\n",
       "0      M1A      Not assigned      Not assigned\n",
       "1      M2A      Not assigned      Not assigned\n",
       "2      M3A        North York         Parkwoods\n",
       "3      M4A        North York  Victoria Village\n",
       "4      M5A  Downtown Toronto      Harbourfront"
      ]
     },
     "execution_count": 5,
     "metadata": {},
     "output_type": "execute_result"
    }
   ],
   "source": [
    "#Drop First row of df to remove 'None'\n",
    "tdf.drop(tdf.index[0], inplace= True)\n",
    "tdf.reset_index(drop =True, inplace = True)\n",
    "print(tdf.shape)\n",
    "tdf.head()"
   ]
  },
  {
   "cell_type": "markdown",
   "metadata": {},
   "source": [
    "#### *2.C. Drop any row that has no assigned Borough from the 'Borough' Column* "
   ]
  },
  {
   "cell_type": "code",
   "execution_count": 6,
   "metadata": {},
   "outputs": [
    {
     "data": {
      "text/html": [
       "<div>\n",
       "<style scoped>\n",
       "    .dataframe tbody tr th:only-of-type {\n",
       "        vertical-align: middle;\n",
       "    }\n",
       "\n",
       "    .dataframe tbody tr th {\n",
       "        vertical-align: top;\n",
       "    }\n",
       "\n",
       "    .dataframe thead th {\n",
       "        text-align: right;\n",
       "    }\n",
       "</style>\n",
       "<table border=\"1\" class=\"dataframe\">\n",
       "  <thead>\n",
       "    <tr style=\"text-align: right;\">\n",
       "      <th></th>\n",
       "      <th>Postcode</th>\n",
       "      <th>Borough</th>\n",
       "      <th>Neighborhood</th>\n",
       "    </tr>\n",
       "  </thead>\n",
       "  <tbody>\n",
       "    <tr>\n",
       "      <th>2</th>\n",
       "      <td>M3A</td>\n",
       "      <td>North York</td>\n",
       "      <td>Parkwoods</td>\n",
       "    </tr>\n",
       "    <tr>\n",
       "      <th>3</th>\n",
       "      <td>M4A</td>\n",
       "      <td>North York</td>\n",
       "      <td>Victoria Village</td>\n",
       "    </tr>\n",
       "    <tr>\n",
       "      <th>4</th>\n",
       "      <td>M5A</td>\n",
       "      <td>Downtown Toronto</td>\n",
       "      <td>Harbourfront</td>\n",
       "    </tr>\n",
       "    <tr>\n",
       "      <th>5</th>\n",
       "      <td>M6A</td>\n",
       "      <td>North York</td>\n",
       "      <td>Lawrence Heights</td>\n",
       "    </tr>\n",
       "    <tr>\n",
       "      <th>6</th>\n",
       "      <td>M6A</td>\n",
       "      <td>North York</td>\n",
       "      <td>Lawrence Manor</td>\n",
       "    </tr>\n",
       "  </tbody>\n",
       "</table>\n",
       "</div>"
      ],
      "text/plain": [
       "  Postcode           Borough      Neighborhood\n",
       "2      M3A        North York         Parkwoods\n",
       "3      M4A        North York  Victoria Village\n",
       "4      M5A  Downtown Toronto      Harbourfront\n",
       "5      M6A        North York  Lawrence Heights\n",
       "6      M6A        North York    Lawrence Manor"
      ]
     },
     "execution_count": 6,
     "metadata": {},
     "output_type": "execute_result"
    }
   ],
   "source": [
    "#drop not assigned Borough \n",
    "tdf.drop(tdf[tdf['Borough']==\"Not assigned\"].index, axis=0, inplace=True)\n",
    "tdf.head()"
   ]
  },
  {
   "cell_type": "markdown",
   "metadata": {},
   "source": [
    "#### *2.D. Set all rows in 'Neighborhoods' that is not assigned to be the same as its Borough*"
   ]
  },
  {
   "cell_type": "code",
   "execution_count": 7,
   "metadata": {},
   "outputs": [
    {
     "name": "stdout",
     "output_type": "stream",
     "text": [
      "Shape of DataFrame =  (210, 3)\n",
      "No. of Unique Postcodes = 103\n"
     ]
    },
    {
     "data": {
      "text/html": [
       "<div>\n",
       "<style scoped>\n",
       "    .dataframe tbody tr th:only-of-type {\n",
       "        vertical-align: middle;\n",
       "    }\n",
       "\n",
       "    .dataframe tbody tr th {\n",
       "        vertical-align: top;\n",
       "    }\n",
       "\n",
       "    .dataframe thead th {\n",
       "        text-align: right;\n",
       "    }\n",
       "</style>\n",
       "<table border=\"1\" class=\"dataframe\">\n",
       "  <thead>\n",
       "    <tr style=\"text-align: right;\">\n",
       "      <th></th>\n",
       "      <th>Postcode</th>\n",
       "      <th>Borough</th>\n",
       "      <th>Neighborhood</th>\n",
       "    </tr>\n",
       "  </thead>\n",
       "  <tbody>\n",
       "    <tr>\n",
       "      <th>2</th>\n",
       "      <td>M3A</td>\n",
       "      <td>North York</td>\n",
       "      <td>Parkwoods</td>\n",
       "    </tr>\n",
       "    <tr>\n",
       "      <th>3</th>\n",
       "      <td>M4A</td>\n",
       "      <td>North York</td>\n",
       "      <td>Victoria Village</td>\n",
       "    </tr>\n",
       "    <tr>\n",
       "      <th>4</th>\n",
       "      <td>M5A</td>\n",
       "      <td>Downtown Toronto</td>\n",
       "      <td>Harbourfront</td>\n",
       "    </tr>\n",
       "    <tr>\n",
       "      <th>5</th>\n",
       "      <td>M6A</td>\n",
       "      <td>North York</td>\n",
       "      <td>Lawrence Heights</td>\n",
       "    </tr>\n",
       "    <tr>\n",
       "      <th>6</th>\n",
       "      <td>M6A</td>\n",
       "      <td>North York</td>\n",
       "      <td>Lawrence Manor</td>\n",
       "    </tr>\n",
       "  </tbody>\n",
       "</table>\n",
       "</div>"
      ],
      "text/plain": [
       "  Postcode           Borough      Neighborhood\n",
       "2      M3A        North York         Parkwoods\n",
       "3      M4A        North York  Victoria Village\n",
       "4      M5A  Downtown Toronto      Harbourfront\n",
       "5      M6A        North York  Lawrence Heights\n",
       "6      M6A        North York    Lawrence Manor"
      ]
     },
     "execution_count": 7,
     "metadata": {},
     "output_type": "execute_result"
    }
   ],
   "source": [
    "#If a cell has a borough but a Not assigned neighborhood, then the neighborhood will be the same as the borough\n",
    "tdf.loc[tdf['Neighborhood']==\"Not assigned\",'Neighborhood']=tdf.loc[tdf['Neighborhood']==\"Not assigned\",'Borough']\n",
    "print(\"Shape of DataFrame = \",tdf.shape) \n",
    "print('No. of Unique Postcodes =', len(tdf['Postcode'].unique())) \n",
    "tdf.head()"
   ]
  },
  {
   "cell_type": "markdown",
   "metadata": {},
   "source": [
    "#### *2.E. Group all Neighborhoods that share the same post code to one row to remove Duplicate Postcodes.*\n",
    "    From the above table, No. of Unique Postcodes = 103 and No. of Rows = 210. This shows some Neighborhoods share the same Postcodes."
   ]
  },
  {
   "cell_type": "code",
   "execution_count": 8,
   "metadata": {},
   "outputs": [
    {
     "name": "stdout",
     "output_type": "stream",
     "text": [
      "(103, 2)\n"
     ]
    },
    {
     "data": {
      "text/html": [
       "<div>\n",
       "<style scoped>\n",
       "    .dataframe tbody tr th:only-of-type {\n",
       "        vertical-align: middle;\n",
       "    }\n",
       "\n",
       "    .dataframe tbody tr th {\n",
       "        vertical-align: top;\n",
       "    }\n",
       "\n",
       "    .dataframe thead th {\n",
       "        text-align: right;\n",
       "    }\n",
       "</style>\n",
       "<table border=\"1\" class=\"dataframe\">\n",
       "  <thead>\n",
       "    <tr style=\"text-align: right;\">\n",
       "      <th></th>\n",
       "      <th>Borough</th>\n",
       "      <th>Neighborhood</th>\n",
       "    </tr>\n",
       "    <tr>\n",
       "      <th>Postcode</th>\n",
       "      <th></th>\n",
       "      <th></th>\n",
       "    </tr>\n",
       "  </thead>\n",
       "  <tbody>\n",
       "    <tr>\n",
       "      <th>M3A</th>\n",
       "      <td>North York</td>\n",
       "      <td>Parkwoods</td>\n",
       "    </tr>\n",
       "    <tr>\n",
       "      <th>M4A</th>\n",
       "      <td>North York</td>\n",
       "      <td>Victoria Village</td>\n",
       "    </tr>\n",
       "    <tr>\n",
       "      <th>M5A</th>\n",
       "      <td>Downtown Toronto</td>\n",
       "      <td>Harbourfront</td>\n",
       "    </tr>\n",
       "    <tr>\n",
       "      <th>M6A</th>\n",
       "      <td>North York,North York</td>\n",
       "      <td>Lawrence Heights,Lawrence Manor</td>\n",
       "    </tr>\n",
       "    <tr>\n",
       "      <th>M7A</th>\n",
       "      <td>Downtown Toronto</td>\n",
       "      <td>Queen's Park</td>\n",
       "    </tr>\n",
       "    <tr>\n",
       "      <th>M9A</th>\n",
       "      <td>Queen's Park</td>\n",
       "      <td>Queen's Park</td>\n",
       "    </tr>\n",
       "    <tr>\n",
       "      <th>M1B</th>\n",
       "      <td>Scarborough,Scarborough</td>\n",
       "      <td>Rouge,Malvern</td>\n",
       "    </tr>\n",
       "    <tr>\n",
       "      <th>M3B</th>\n",
       "      <td>North York</td>\n",
       "      <td>Don Mills North</td>\n",
       "    </tr>\n",
       "    <tr>\n",
       "      <th>M4B</th>\n",
       "      <td>East York,East York</td>\n",
       "      <td>Woodbine Gardens,Parkview Hill</td>\n",
       "    </tr>\n",
       "    <tr>\n",
       "      <th>M5B</th>\n",
       "      <td>Downtown Toronto,Downtown Toronto</td>\n",
       "      <td>Ryerson,Garden District</td>\n",
       "    </tr>\n",
       "  </tbody>\n",
       "</table>\n",
       "</div>"
      ],
      "text/plain": [
       "                                    Borough                     Neighborhood\n",
       "Postcode                                                                    \n",
       "M3A                              North York                        Parkwoods\n",
       "M4A                              North York                 Victoria Village\n",
       "M5A                        Downtown Toronto                     Harbourfront\n",
       "M6A                   North York,North York  Lawrence Heights,Lawrence Manor\n",
       "M7A                        Downtown Toronto                     Queen's Park\n",
       "M9A                            Queen's Park                     Queen's Park\n",
       "M1B                 Scarborough,Scarborough                    Rouge,Malvern\n",
       "M3B                              North York                  Don Mills North\n",
       "M4B                     East York,East York   Woodbine Gardens,Parkview Hill\n",
       "M5B       Downtown Toronto,Downtown Toronto          Ryerson,Garden District"
      ]
     },
     "execution_count": 8,
     "metadata": {},
     "output_type": "execute_result"
    }
   ],
   "source": [
    "# more than one neighbourhood in one postal code -> These two rows will be combined into one row with the neighborhoods separated with a comma as shown in row 11 in the above table.\n",
    "tdf1= tdf.groupby('Postcode', sort =False).agg(lambda x: ','.join(x))\n",
    "print(tdf1.shape)\n",
    "tdf1.head(10)"
   ]
  },
  {
   "cell_type": "markdown",
   "metadata": {},
   "source": [
    "### **Project Task 1**\n",
    "\n",
    "#### *2.F.* \n",
    "#### *Reset the Table index to normal from hirarchical so that table column 'Postcode' is no more the table index*"
   ]
  },
  {
   "cell_type": "code",
   "execution_count": 9,
   "metadata": {},
   "outputs": [
    {
     "name": "stdout",
     "output_type": "stream",
     "text": [
      "(103, 3)\n"
     ]
    },
    {
     "data": {
      "text/html": [
       "<div>\n",
       "<style scoped>\n",
       "    .dataframe tbody tr th:only-of-type {\n",
       "        vertical-align: middle;\n",
       "    }\n",
       "\n",
       "    .dataframe tbody tr th {\n",
       "        vertical-align: top;\n",
       "    }\n",
       "\n",
       "    .dataframe thead th {\n",
       "        text-align: right;\n",
       "    }\n",
       "</style>\n",
       "<table border=\"1\" class=\"dataframe\">\n",
       "  <thead>\n",
       "    <tr style=\"text-align: right;\">\n",
       "      <th></th>\n",
       "      <th>Postcode</th>\n",
       "      <th>Borough</th>\n",
       "      <th>Neighborhood</th>\n",
       "    </tr>\n",
       "  </thead>\n",
       "  <tbody>\n",
       "    <tr>\n",
       "      <th>0</th>\n",
       "      <td>M3A</td>\n",
       "      <td>North York</td>\n",
       "      <td>Parkwoods</td>\n",
       "    </tr>\n",
       "    <tr>\n",
       "      <th>1</th>\n",
       "      <td>M4A</td>\n",
       "      <td>North York</td>\n",
       "      <td>Victoria Village</td>\n",
       "    </tr>\n",
       "    <tr>\n",
       "      <th>2</th>\n",
       "      <td>M5A</td>\n",
       "      <td>Downtown Toronto</td>\n",
       "      <td>Harbourfront</td>\n",
       "    </tr>\n",
       "    <tr>\n",
       "      <th>3</th>\n",
       "      <td>M6A</td>\n",
       "      <td>North York,North York</td>\n",
       "      <td>Lawrence Heights,Lawrence Manor</td>\n",
       "    </tr>\n",
       "    <tr>\n",
       "      <th>4</th>\n",
       "      <td>M7A</td>\n",
       "      <td>Downtown Toronto</td>\n",
       "      <td>Queen's Park</td>\n",
       "    </tr>\n",
       "    <tr>\n",
       "      <th>5</th>\n",
       "      <td>M9A</td>\n",
       "      <td>Queen's Park</td>\n",
       "      <td>Queen's Park</td>\n",
       "    </tr>\n",
       "    <tr>\n",
       "      <th>6</th>\n",
       "      <td>M1B</td>\n",
       "      <td>Scarborough,Scarborough</td>\n",
       "      <td>Rouge,Malvern</td>\n",
       "    </tr>\n",
       "    <tr>\n",
       "      <th>7</th>\n",
       "      <td>M3B</td>\n",
       "      <td>North York</td>\n",
       "      <td>Don Mills North</td>\n",
       "    </tr>\n",
       "    <tr>\n",
       "      <th>8</th>\n",
       "      <td>M4B</td>\n",
       "      <td>East York,East York</td>\n",
       "      <td>Woodbine Gardens,Parkview Hill</td>\n",
       "    </tr>\n",
       "    <tr>\n",
       "      <th>9</th>\n",
       "      <td>M5B</td>\n",
       "      <td>Downtown Toronto,Downtown Toronto</td>\n",
       "      <td>Ryerson,Garden District</td>\n",
       "    </tr>\n",
       "  </tbody>\n",
       "</table>\n",
       "</div>"
      ],
      "text/plain": [
       "  Postcode                            Borough                     Neighborhood\n",
       "0      M3A                         North York                        Parkwoods\n",
       "1      M4A                         North York                 Victoria Village\n",
       "2      M5A                   Downtown Toronto                     Harbourfront\n",
       "3      M6A              North York,North York  Lawrence Heights,Lawrence Manor\n",
       "4      M7A                   Downtown Toronto                     Queen's Park\n",
       "5      M9A                       Queen's Park                     Queen's Park\n",
       "6      M1B            Scarborough,Scarborough                    Rouge,Malvern\n",
       "7      M3B                         North York                  Don Mills North\n",
       "8      M4B                East York,East York   Woodbine Gardens,Parkview Hill\n",
       "9      M5B  Downtown Toronto,Downtown Toronto          Ryerson,Garden District"
      ]
     },
     "execution_count": 9,
     "metadata": {},
     "output_type": "execute_result"
    }
   ],
   "source": [
    "tdf1.reset_index(level=\"Postcode\", inplace = True)\n",
    "print(tdf1.shape)\n",
    "tdf1.head(10)"
   ]
  },
  {
   "cell_type": "markdown",
   "metadata": {},
   "source": [
    "#### *Step 3.* \n",
    "#### *Download location data via Geocode Module or Read location data from CSV if given.*"
   ]
  },
  {
   "cell_type": "code",
   "execution_count": 10,
   "metadata": {},
   "outputs": [
    {
     "data": {
      "text/html": [
       "<div>\n",
       "<style scoped>\n",
       "    .dataframe tbody tr th:only-of-type {\n",
       "        vertical-align: middle;\n",
       "    }\n",
       "\n",
       "    .dataframe tbody tr th {\n",
       "        vertical-align: top;\n",
       "    }\n",
       "\n",
       "    .dataframe thead th {\n",
       "        text-align: right;\n",
       "    }\n",
       "</style>\n",
       "<table border=\"1\" class=\"dataframe\">\n",
       "  <thead>\n",
       "    <tr style=\"text-align: right;\">\n",
       "      <th></th>\n",
       "      <th>Postcode</th>\n",
       "      <th>Latitude</th>\n",
       "      <th>Longitude</th>\n",
       "    </tr>\n",
       "  </thead>\n",
       "  <tbody>\n",
       "    <tr>\n",
       "      <th>0</th>\n",
       "      <td>M1B</td>\n",
       "      <td>43.806686</td>\n",
       "      <td>-79.194353</td>\n",
       "    </tr>\n",
       "    <tr>\n",
       "      <th>1</th>\n",
       "      <td>M1C</td>\n",
       "      <td>43.784535</td>\n",
       "      <td>-79.160497</td>\n",
       "    </tr>\n",
       "    <tr>\n",
       "      <th>2</th>\n",
       "      <td>M1E</td>\n",
       "      <td>43.763573</td>\n",
       "      <td>-79.188711</td>\n",
       "    </tr>\n",
       "    <tr>\n",
       "      <th>3</th>\n",
       "      <td>M1G</td>\n",
       "      <td>43.770992</td>\n",
       "      <td>-79.216917</td>\n",
       "    </tr>\n",
       "    <tr>\n",
       "      <th>4</th>\n",
       "      <td>M1H</td>\n",
       "      <td>43.773136</td>\n",
       "      <td>-79.239476</td>\n",
       "    </tr>\n",
       "  </tbody>\n",
       "</table>\n",
       "</div>"
      ],
      "text/plain": [
       "  Postcode   Latitude  Longitude\n",
       "0      M1B  43.806686 -79.194353\n",
       "1      M1C  43.784535 -79.160497\n",
       "2      M1E  43.763573 -79.188711\n",
       "3      M1G  43.770992 -79.216917\n",
       "4      M1H  43.773136 -79.239476"
      ]
     },
     "execution_count": 10,
     "metadata": {},
     "output_type": "execute_result"
    }
   ],
   "source": [
    "geodata= pd.read_csv('https://cocl.us/Geospatial_data')\n",
    "geodata.rename(columns = {'Postal Code':'Postcode'}, inplace=True)\n",
    "geodata.head()"
   ]
  },
  {
   "cell_type": "markdown",
   "metadata": {},
   "source": [
    "### **Project Task 2**\n",
    "\n",
    "#### *Step: 4*\n",
    "#### Append Location Data Table to above Table containing \"Postcode\" and \"Borough\" Data"
   ]
  },
  {
   "cell_type": "code",
   "execution_count": 11,
   "metadata": {},
   "outputs": [],
   "source": [
    "dfj = tdf1.join(geodata.set_index('Postcode'), on=\"Postcode\")"
   ]
  },
  {
   "cell_type": "code",
   "execution_count": 12,
   "metadata": {},
   "outputs": [
    {
     "data": {
      "text/html": [
       "<div>\n",
       "<style scoped>\n",
       "    .dataframe tbody tr th:only-of-type {\n",
       "        vertical-align: middle;\n",
       "    }\n",
       "\n",
       "    .dataframe tbody tr th {\n",
       "        vertical-align: top;\n",
       "    }\n",
       "\n",
       "    .dataframe thead th {\n",
       "        text-align: right;\n",
       "    }\n",
       "</style>\n",
       "<table border=\"1\" class=\"dataframe\">\n",
       "  <thead>\n",
       "    <tr style=\"text-align: right;\">\n",
       "      <th></th>\n",
       "      <th>Postcode</th>\n",
       "      <th>Borough</th>\n",
       "      <th>Neighborhood</th>\n",
       "      <th>Latitude</th>\n",
       "      <th>Longitude</th>\n",
       "    </tr>\n",
       "  </thead>\n",
       "  <tbody>\n",
       "    <tr>\n",
       "      <th>0</th>\n",
       "      <td>M3A</td>\n",
       "      <td>North York</td>\n",
       "      <td>Parkwoods</td>\n",
       "      <td>43.753259</td>\n",
       "      <td>-79.329656</td>\n",
       "    </tr>\n",
       "    <tr>\n",
       "      <th>1</th>\n",
       "      <td>M4A</td>\n",
       "      <td>North York</td>\n",
       "      <td>Victoria Village</td>\n",
       "      <td>43.725882</td>\n",
       "      <td>-79.315572</td>\n",
       "    </tr>\n",
       "    <tr>\n",
       "      <th>2</th>\n",
       "      <td>M5A</td>\n",
       "      <td>Downtown Toronto</td>\n",
       "      <td>Harbourfront</td>\n",
       "      <td>43.654260</td>\n",
       "      <td>-79.360636</td>\n",
       "    </tr>\n",
       "    <tr>\n",
       "      <th>3</th>\n",
       "      <td>M6A</td>\n",
       "      <td>North York,North York</td>\n",
       "      <td>Lawrence Heights,Lawrence Manor</td>\n",
       "      <td>43.718518</td>\n",
       "      <td>-79.464763</td>\n",
       "    </tr>\n",
       "    <tr>\n",
       "      <th>4</th>\n",
       "      <td>M7A</td>\n",
       "      <td>Downtown Toronto</td>\n",
       "      <td>Queen's Park</td>\n",
       "      <td>43.662301</td>\n",
       "      <td>-79.389494</td>\n",
       "    </tr>\n",
       "    <tr>\n",
       "      <th>...</th>\n",
       "      <td>...</td>\n",
       "      <td>...</td>\n",
       "      <td>...</td>\n",
       "      <td>...</td>\n",
       "      <td>...</td>\n",
       "    </tr>\n",
       "    <tr>\n",
       "      <th>98</th>\n",
       "      <td>M8X</td>\n",
       "      <td>Etobicoke,Etobicoke,Etobicoke</td>\n",
       "      <td>The Kingsway,Montgomery Road,Old Mill North</td>\n",
       "      <td>43.653654</td>\n",
       "      <td>-79.506944</td>\n",
       "    </tr>\n",
       "    <tr>\n",
       "      <th>99</th>\n",
       "      <td>M4Y</td>\n",
       "      <td>Downtown Toronto</td>\n",
       "      <td>Church and Wellesley</td>\n",
       "      <td>43.665860</td>\n",
       "      <td>-79.383160</td>\n",
       "    </tr>\n",
       "    <tr>\n",
       "      <th>100</th>\n",
       "      <td>M7Y</td>\n",
       "      <td>East Toronto</td>\n",
       "      <td>Business Reply Mail Processing Centre 969 Eastern</td>\n",
       "      <td>43.662744</td>\n",
       "      <td>-79.321558</td>\n",
       "    </tr>\n",
       "    <tr>\n",
       "      <th>101</th>\n",
       "      <td>M8Y</td>\n",
       "      <td>Etobicoke,Etobicoke,Etobicoke,Etobicoke,Etobic...</td>\n",
       "      <td>Humber Bay,King's Mill Park,Kingsway Park Sout...</td>\n",
       "      <td>43.636258</td>\n",
       "      <td>-79.498509</td>\n",
       "    </tr>\n",
       "    <tr>\n",
       "      <th>102</th>\n",
       "      <td>M8Z</td>\n",
       "      <td>Etobicoke,Etobicoke,Etobicoke,Etobicoke,Etobicoke</td>\n",
       "      <td>Kingsway Park South West,Mimico NW,The Queensw...</td>\n",
       "      <td>43.628841</td>\n",
       "      <td>-79.520999</td>\n",
       "    </tr>\n",
       "  </tbody>\n",
       "</table>\n",
       "<p>103 rows × 5 columns</p>\n",
       "</div>"
      ],
      "text/plain": [
       "    Postcode                                            Borough  \\\n",
       "0        M3A                                         North York   \n",
       "1        M4A                                         North York   \n",
       "2        M5A                                   Downtown Toronto   \n",
       "3        M6A                              North York,North York   \n",
       "4        M7A                                   Downtown Toronto   \n",
       "..       ...                                                ...   \n",
       "98       M8X                      Etobicoke,Etobicoke,Etobicoke   \n",
       "99       M4Y                                   Downtown Toronto   \n",
       "100      M7Y                                       East Toronto   \n",
       "101      M8Y  Etobicoke,Etobicoke,Etobicoke,Etobicoke,Etobic...   \n",
       "102      M8Z  Etobicoke,Etobicoke,Etobicoke,Etobicoke,Etobicoke   \n",
       "\n",
       "                                          Neighborhood   Latitude  Longitude  \n",
       "0                                            Parkwoods  43.753259 -79.329656  \n",
       "1                                     Victoria Village  43.725882 -79.315572  \n",
       "2                                         Harbourfront  43.654260 -79.360636  \n",
       "3                      Lawrence Heights,Lawrence Manor  43.718518 -79.464763  \n",
       "4                                         Queen's Park  43.662301 -79.389494  \n",
       "..                                                 ...        ...        ...  \n",
       "98         The Kingsway,Montgomery Road,Old Mill North  43.653654 -79.506944  \n",
       "99                                Church and Wellesley  43.665860 -79.383160  \n",
       "100  Business Reply Mail Processing Centre 969 Eastern  43.662744 -79.321558  \n",
       "101  Humber Bay,King's Mill Park,Kingsway Park Sout...  43.636258 -79.498509  \n",
       "102  Kingsway Park South West,Mimico NW,The Queensw...  43.628841 -79.520999  \n",
       "\n",
       "[103 rows x 5 columns]"
      ]
     },
     "execution_count": 12,
     "metadata": {},
     "output_type": "execute_result"
    }
   ],
   "source": [
    "dfj"
   ]
  },
  {
   "cell_type": "markdown",
   "metadata": {},
   "source": [
    "### **Project Task 3**\n",
    "\n",
    "#### *Step: 4*\n",
    "#### Visualize Final Data on Map using Folium Module to show Toronto Neighborhood Cluster"
   ]
  },
  {
   "cell_type": "code",
   "execution_count": 21,
   "metadata": {},
   "outputs": [
    {
     "name": "stdout",
     "output_type": "stream",
     "text": [
      "The geograpical coordinate of Toronto are 43.653963, -79.387207.\n"
     ]
    }
   ],
   "source": [
    "from geopy.geocoders import Nominatim\n",
    "address = 'Toronto'\n",
    "\n",
    "geolocator = Nominatim(user_agent=\"ny_explorer\")\n",
    "location = geolocator.geocode(address)\n",
    "latitude = location.latitude\n",
    "longitude = location.longitude\n",
    "print('The geograpical coordinate of Toronto are {}, {}.'.format(latitude, longitude))"
   ]
  },
  {
   "cell_type": "code",
   "execution_count": 33,
   "metadata": {},
   "outputs": [
    {
     "data": {
      "text/html": [
       "<div style=\"width:100%;\"><div style=\"position:relative;width:100%;height:0;padding-bottom:60%;\"><iframe src=\"data:text/html;charset=utf-8;base64,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\" style=\"position:absolute;width:100%;height:100%;left:0;top:0;border:none !important;\" allowfullscreen webkitallowfullscreen mozallowfullscreen></iframe></div></div>"
      ],
      "text/plain": [
       "<folium.folium.Map at 0x1ad6ce976d8>"
      ]
     },
     "execution_count": 33,
     "metadata": {},
     "output_type": "execute_result"
    }
   ],
   "source": [
    "# create map of New York using latitude and longitude values\n",
    "import folium\n",
    "map_toronto = folium.Map(location=[latitude, longitude], zoom_start=10)\n",
    "\n",
    "# add markers to map\n",
    "for lat, lng, borough, neighborhood in zip(dfj['Latitude'], dfj['Longitude'], dfj['Borough'], dfj['Neighborhood']):\n",
    "    label1 = '{}'.format(neighborhood)\n",
    "    label1 = folium.Popup(label1, parse_html=True)\n",
    "    label2 = '{}'.format(borough)\n",
    "    label2 = folium.Tooltip(label2)\n",
    "    folium.CircleMarker(\n",
    "        [lat, lng],\n",
    "        radius=5,\n",
    "        popup=label1,\n",
    "        tooltip = label2,\n",
    "        color='blue',\n",
    "        fill=True,\n",
    "        fill_color='#3186cc',\n",
    "        fill_opacity=0.7,\n",
    "        parse_html=False).add_to(map_toronto)  \n",
    "    \n",
    "map_toronto"
   ]
  },
  {
   "cell_type": "code",
   "execution_count": 83,
   "metadata": {
    "scrolled": true
   },
   "outputs": [],
   "source": []
  }
 ],
 "metadata": {
  "kernelspec": {
   "display_name": "Python 3",
   "language": "python",
   "name": "python3"
  },
  "language_info": {
   "codemirror_mode": {
    "name": "ipython",
    "version": 3
   },
   "file_extension": ".py",
   "mimetype": "text/x-python",
   "name": "python",
   "nbconvert_exporter": "python",
   "pygments_lexer": "ipython3",
   "version": "3.7.3"
  }
 },
 "nbformat": 4,
 "nbformat_minor": 4
}

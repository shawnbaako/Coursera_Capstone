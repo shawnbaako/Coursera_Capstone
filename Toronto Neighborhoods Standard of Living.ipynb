{
 "cells": [
  {
   "cell_type": "markdown",
   "metadata": {},
   "source": [
    "### **Project Title:**\n",
    "#### Toronto Neighborhoods' Standard of Living Compared to City of Toronto\n",
    "<hr> \n"
   ]
  },
  {
   "cell_type": "markdown",
   "metadata": {},
   "source": [
    "##### **INTRODUCTION/BUSINESS PROBLEM:**\n",
    "\n",
    "What is the Standard of Living and Quality of Life in a cluster of neighborhoods in Toronto compared to Toronto City as a whole? \n",
    "\n",
    "This problem is critical for City Governments in their Economic Planning and Social Project Initiatives. For example, city government will be able to effectively fight rising house prices or increase job creation efforts in certain neighborhoods. Answer to the stated problem can also help an Entrepreneurs on deciding on profitable business to start and location of such business. "
   ]
  },
  {
   "cell_type": "markdown",
   "metadata": {},
   "source": [
    "#### **Discussion of Data for the Stated Problem:**\n",
    "This project will explore the stated problem; \"What is the Standard of Living and Quality of Life in a cluster of neighborhoods in Toronto compared to the City of Toronto as a whole?\"\n",
    "For this problem; I will use City of Toronto Neighborhood Profile Data, Foursquare Location Data, and Toronto Neighborhoods Geo-Location Data to explore Demographic, Economic, and Social Structure of Neighborhoods in the City of Toronto. This exploration will aim to use available historical data to segment the neighborhoods, and score and rank them based on Standard of Living. The scoring and ranking of the neighborhoods will be based on the following analysis listed below;    \n",
    "\n",
    "**1. Demographic Analysis:**\n",
    "  \n",
    "     Goal - Understand the Demographics of each Neighborhood,\n",
    "     Required Data - Population(Size and Density), Age and Gender, Citizenship(No. of Locals vs Immigrants),\n",
    "     Data Source - Wikipedia, City of Toronto Government/data-research-maps/neighbourhoods-communities/neighbourhood-profiles/\n",
    "\n",
    "**2. Economic Analysis:** \n",
    "       \n",
    "     Goal - Score standard of living by measuring cost of living and household income etc.\n",
    "     Required Data - Historical Data on Housing Prices and Rent Rates, Unemployment and Poverty Rates, Income per Household etc.\n",
    "     Data Source - City of Toronto Government/data-research-maps/neighbourhoods-communities/neighbourhood-profiles/\n",
    "\n",
    "**3. Social Structure Analysis:** \n",
    "   \n",
    "    Goal - Score Quality of Life\n",
    "    Required Data - Crime Rate, Social Destinations(Restaurants, Grocery Stores, Shopping etc.), Public Amenities(Transportation, Parks and Recreation Centers etc.) \n",
    "    Data Source - Foursquare Location Data, City of Toronto Government/data-research-maps/neighbourhoods-communities/neighbourhood-profiles/"
   ]
  }
 ],
 "metadata": {
  "kernelspec": {
   "display_name": "Python",
   "language": "python",
   "name": "conda-env-python-py"
  },
  "language_info": {
   "codemirror_mode": {
    "name": "ipython",
    "version": 3
   },
   "file_extension": ".py",
   "mimetype": "text/x-python",
   "name": "python",
   "nbconvert_exporter": "python",
   "pygments_lexer": "ipython3",
   "version": "3.6.7"
  }
 },
 "nbformat": 4,
 "nbformat_minor": 4
}
